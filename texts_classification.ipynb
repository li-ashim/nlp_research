{
 "cells": [
  {
   "cell_type": "markdown",
   "source": [
    "<h1>Classifying news based on their content</h1>"
   ],
   "metadata": {}
  },
  {
   "cell_type": "markdown",
   "source": [
    "<ol><b>\r\n",
    "    <li>Vectorizing text data</li>\r\n",
    "    <li>Dimensiality reduction</li>\r\n",
    "    <li>Training classifiers</li>\r\n",
    "</b></ol> "
   ],
   "metadata": {}
  },
  {
   "cell_type": "code",
   "execution_count": 1,
   "source": [
    "import pandas as pd\r\n",
    "import numpy as np\r\n",
    "from sklearn.feature_extraction.text import TfidfVectorizer, TransformerMixin\r\n",
    "from sklearn.model_selection import train_test_split\r\n",
    "from sklearn.metrics import accuracy_score, recall_score, f1_score\r\n",
    "import razdel\r\n",
    "import pymorphy2"
   ],
   "outputs": [],
   "metadata": {}
  },
  {
   "cell_type": "code",
   "execution_count": 2,
   "source": [
    "np.random.seed(42)\r\n",
    "pd.set_option('max_colwidth', 120)"
   ],
   "outputs": [],
   "metadata": {}
  },
  {
   "cell_type": "markdown",
   "source": [
    "<h1>Data</h1>"
   ],
   "metadata": {}
  },
  {
   "cell_type": "code",
   "execution_count": 6,
   "source": [
    "df = pd.read_csv('fakenews_dataset.csv');"
   ],
   "outputs": [],
   "metadata": {}
  },
  {
   "cell_type": "code",
   "execution_count": 5,
   "source": [
    "df.head()"
   ],
   "outputs": [
    {
     "output_type": "execute_result",
     "data": {
      "text/html": [
       "<div>\n",
       "<style scoped>\n",
       "    .dataframe tbody tr th:only-of-type {\n",
       "        vertical-align: middle;\n",
       "    }\n",
       "\n",
       "    .dataframe tbody tr th {\n",
       "        vertical-align: top;\n",
       "    }\n",
       "\n",
       "    .dataframe thead th {\n",
       "        text-align: right;\n",
       "    }\n",
       "</style>\n",
       "<table border=\"1\" class=\"dataframe\">\n",
       "  <thead>\n",
       "    <tr style=\"text-align: right;\">\n",
       "      <th></th>\n",
       "      <th>fake</th>\n",
       "      <th>content</th>\n",
       "    </tr>\n",
       "  </thead>\n",
       "  <tbody>\n",
       "    <tr>\n",
       "      <th>0</th>\n",
       "      <td>1</td>\n",
       "      <td>Во Франции при поддержке министерства культуры стартуют съёмки кинокартины о Второй мировой войне под рабочим назван...</td>\n",
       "    </tr>\n",
       "    <tr>\n",
       "      <th>1</th>\n",
       "      <td>1</td>\n",
       "      <td>Китайская провинция Цзянси, по решению ЦК КПК, станет пилотным регионом страны, в котором буде целиком ликвидировано...</td>\n",
       "    </tr>\n",
       "    <tr>\n",
       "      <th>2</th>\n",
       "      <td>1</td>\n",
       "      <td>Государственная корпорация «Роскосмос» официально объявила об отказе ремонтировать сломанный в декабре 2017 года туа...</td>\n",
       "    </tr>\n",
       "    <tr>\n",
       "      <th>3</th>\n",
       "      <td>1</td>\n",
       "      <td>В компании Nestle категорически отказались пересматривать рецептуру своего детского питания и кондитерских изделий в...</td>\n",
       "    </tr>\n",
       "    <tr>\n",
       "      <th>4</th>\n",
       "      <td>1</td>\n",
       "      <td>Австрийская неправительственная общественная организация «Честь это верность» наградила сборную Хорватии по футболу ...</td>\n",
       "    </tr>\n",
       "  </tbody>\n",
       "</table>\n",
       "</div>"
      ],
      "text/plain": [
       "   fake  \\\n",
       "0     1   \n",
       "1     1   \n",
       "2     1   \n",
       "3     1   \n",
       "4     1   \n",
       "\n",
       "                                                                                                                   content  \n",
       "0  Во Франции при поддержке министерства культуры стартуют съёмки кинокартины о Второй мировой войне под рабочим назван...  \n",
       "1  Китайская провинция Цзянси, по решению ЦК КПК, станет пилотным регионом страны, в котором буде целиком ликвидировано...  \n",
       "2  Государственная корпорация «Роскосмос» официально объявила об отказе ремонтировать сломанный в декабре 2017 года туа...  \n",
       "3  В компании Nestle категорически отказались пересматривать рецептуру своего детского питания и кондитерских изделий в...  \n",
       "4  Австрийская неправительственная общественная организация «Честь это верность» наградила сборную Хорватии по футболу ...  "
      ]
     },
     "metadata": {},
     "execution_count": 5
    }
   ],
   "metadata": {}
  },
  {
   "cell_type": "code",
   "execution_count": 7,
   "source": [
    "df.info()"
   ],
   "outputs": [
    {
     "output_type": "stream",
     "name": "stdout",
     "text": [
      "<class 'pandas.core.frame.DataFrame'>\n",
      "RangeIndex: 9174 entries, 0 to 9173\n",
      "Data columns (total 2 columns):\n",
      " #   Column   Non-Null Count  Dtype \n",
      "---  ------   --------------  ----- \n",
      " 0   fake     9174 non-null   int64 \n",
      " 1   content  9174 non-null   object\n",
      "dtypes: int64(1), object(1)\n",
      "memory usage: 143.5+ KB\n"
     ]
    }
   ],
   "metadata": {}
  },
  {
   "cell_type": "code",
   "execution_count": 8,
   "source": [
    "print(df['fake'].value_counts(), '\\n')\r\n",
    "print(df['fake'].value_counts(normalize=True))"
   ],
   "outputs": [
    {
     "output_type": "stream",
     "name": "stdout",
     "text": [
      "0    8340\n",
      "1     834\n",
      "Name: fake, dtype: int64 \n",
      "\n",
      "0    0.909091\n",
      "1    0.090909\n",
      "Name: fake, dtype: float64\n"
     ]
    }
   ],
   "metadata": {}
  },
  {
   "cell_type": "code",
   "execution_count": 9,
   "source": [
    "print('Fake')\r\n",
    "print((df[df['fake'] == 1]['content'].apply(len)).agg([np.min, np.max, np.mean, np.median]), '\\n')\r\n",
    "\r\n",
    "print('Not fake')\r\n",
    "print((df[df['fake'] == 0]['content'].apply(len)).agg([np.min, np.max, np.mean, np.median]))"
   ],
   "outputs": [
    {
     "output_type": "stream",
     "name": "stdout",
     "text": [
      "Fake\n",
      "amin       361.000000\n",
      "amax      8521.000000\n",
      "mean      1110.172662\n",
      "median     981.000000\n",
      "Name: content, dtype: float64 \n",
      "\n",
      "Not fake\n",
      "amin       306.000000\n",
      "amax      4393.000000\n",
      "mean      1342.651918\n",
      "median    1271.000000\n",
      "Name: content, dtype: float64\n"
     ]
    }
   ],
   "metadata": {}
  },
  {
   "cell_type": "markdown",
   "source": [
    "<h1>Vectorization</h1>"
   ],
   "metadata": {}
  },
  {
   "cell_type": "code",
   "execution_count": 10,
   "source": [
    "morph = pymorphy2.MorphAnalyzer(result_type=None)\r\n",
    "def lemmatize(word):\r\n",
    "    return morph.normal_forms(word)[0]\r\n",
    "\r\n",
    "def tokenize(text):\r\n",
    "    return [lemmatize(token.text) for token in razdel.tokenize(text)]\r\n",
    "        \r\n",
    "# class DenseTransformer(TransformerMixin):\r\n",
    "#     def fit(self, X, y=None, **fit_params):\r\n",
    "#         return self\r\n",
    "\r\n",
    "#     def transform(self, X, y=None, **fit_params):\r\n",
    "#         return X.todense()"
   ],
   "outputs": [],
   "metadata": {}
  },
  {
   "cell_type": "code",
   "execution_count": 11,
   "source": [
    "vectorizer = TfidfVectorizer(tokenizer=tokenize, min_df=0.0001, max_df=1.0)  # with min_df = 0.001: 9647 terms;;; 0.0005: 15256;;; 1: 59767\r\n",
    "tfidf_docs = vectorizer.fit_transform(df['content'])"
   ],
   "outputs": [],
   "metadata": {}
  },
  {
   "cell_type": "code",
   "execution_count": 13,
   "source": [
    "len(vectorizer.stop_words_)"
   ],
   "outputs": [
    {
     "output_type": "execute_result",
     "data": {
      "text/plain": [
       "0"
      ]
     },
     "metadata": {},
     "execution_count": 13
    }
   ],
   "metadata": {}
  },
  {
   "cell_type": "code",
   "execution_count": 14,
   "source": [
    "tfidf_docs.shape"
   ],
   "outputs": [
    {
     "output_type": "execute_result",
     "data": {
      "text/plain": [
       "(9174, 59712)"
      ]
     },
     "metadata": {},
     "execution_count": 14
    }
   ],
   "metadata": {}
  },
  {
   "cell_type": "markdown",
   "source": [
    "<h1>Dimensiality reduction (LSA)</h1>"
   ],
   "metadata": {}
  },
  {
   "cell_type": "code",
   "execution_count": 15,
   "source": [
    "from sklearn.decomposition import TruncatedSVD"
   ],
   "outputs": [],
   "metadata": {}
  },
  {
   "cell_type": "code",
   "execution_count": 16,
   "source": [
    "def get_MSE(reconstructed_tfidf, tfidf_docs):\r\n",
    "    return np.sqrt(((tfidf_docs.toarray() - reconstructed_tfidf).flatten()**2).mean()).round(4)"
   ],
   "outputs": [],
   "metadata": {}
  },
  {
   "cell_type": "code",
   "execution_count": 24,
   "source": [
    "errors = []\r\n",
    "\r\n",
    "params = [25, 50, 100, 150, 200]\r\n",
    "\r\n",
    "for param in params:\r\n",
    "    lsa = TruncatedSVD(n_components=param, n_iter=5, random_state=42)\r\n",
    "    dtm = lsa.fit_transform(tfidf_docs)\r\n",
    "    reconstructed_tfidf = lsa.inverse_transform(dtm)\r\n",
    "    error = get_MSE(reconstructed_tfidf, tfidf_docs)\r\n",
    "    errors.append(error)"
   ],
   "outputs": [],
   "metadata": {}
  },
  {
   "cell_type": "code",
   "execution_count": 25,
   "source": [
    "from matplotlib import pyplot as plt\r\n",
    "\r\n",
    "plt.ylabel('MSE')\r\n",
    "plt.xlabel('n_components')\r\n",
    "plt.scatter(params, errors)"
   ],
   "outputs": [
    {
     "output_type": "execute_result",
     "data": {
      "text/plain": [
       "<matplotlib.collections.PathCollection at 0x1b91b625d48>"
      ]
     },
     "metadata": {},
     "execution_count": 25
    },
    {
     "output_type": "display_data",
     "data": {
      "image/png": "[encoded data removed]",
      "text/plain": [
       "<Figure size 432x288 with 1 Axes>"
      ]
     },
     "metadata": {
      "needs_background": "light"
     }
    }
   ],
   "metadata": {}
  },
  {
   "cell_type": "code",
   "execution_count": 17,
   "source": [
    "lsa = TruncatedSVD(n_components=25, n_iter=5, random_state=42)"
   ],
   "outputs": [],
   "metadata": {}
  },
  {
   "cell_type": "markdown",
   "source": [
    "<h1>Classification</h1>"
   ],
   "metadata": {}
  },
  {
   "cell_type": "markdown",
   "source": [
    "<h1>Baseline Model</h1>"
   ],
   "metadata": {}
  },
  {
   "cell_type": "code",
   "execution_count": null,
   "source": [
    "# Baseline model - Zero rule classifier\r\n",
    "# has accuracy 0.91\r\n",
    "# but 0 precision"
   ],
   "outputs": [],
   "metadata": {}
  },
  {
   "cell_type": "code",
   "execution_count": 26,
   "source": [
    "X_train, X_test, y_train, y_test = train_test_split(dtm, df['fake'], \r\n",
    "                                                    test_size=0.4, random_state=42)"
   ],
   "outputs": [],
   "metadata": {}
  },
  {
   "cell_type": "markdown",
   "source": [
    "<h1>Logistic regression</h1>"
   ],
   "metadata": {}
  },
  {
   "cell_type": "code",
   "execution_count": 6,
   "source": [
    "from sklearn.linear_model import LogisticRegression"
   ],
   "outputs": [],
   "metadata": {}
  },
  {
   "cell_type": "code",
   "execution_count": null,
   "source": [
    "lr_clf = LogisticRegression(class_weight={1: 10})\r\n",
    "lr_clf.fit(X_train, y_train)"
   ],
   "outputs": [],
   "metadata": {}
  },
  {
   "cell_type": "code",
   "execution_count": null,
   "source": [
    "lr_clf.score(X_test, y_test)"
   ],
   "outputs": [],
   "metadata": {}
  },
  {
   "cell_type": "code",
   "execution_count": null,
   "source": [
    "prediction_lr = lr_clf.predict(X_test)\r\n",
    "prediction_lr[prediction_lr < 0] = 0\r\n",
    "prediction_lr[prediction_lr > 0] = 1\r\n",
    "\r\n",
    "print(f'Recall: {recall_score(y_test, prediction_lr)}')\r\n",
    "print(f'F1: {f1_score(y_test, prediction_lr)}')"
   ],
   "outputs": [],
   "metadata": {}
  },
  {
   "cell_type": "markdown",
   "source": [
    "<h1>SVC</h1>"
   ],
   "metadata": {}
  },
  {
   "cell_type": "code",
   "execution_count": 27,
   "source": [
    "from sklearn.svm import SVC"
   ],
   "outputs": [],
   "metadata": {}
  },
  {
   "cell_type": "code",
   "execution_count": null,
   "source": [
    "svc_clf = SVC(kernel='rbf', random_state=42, class_weight={1: 10})"
   ],
   "outputs": [],
   "metadata": {}
  },
  {
   "cell_type": "code",
   "execution_count": null,
   "source": [
    "svc_clf.fit(X_train, y_train)"
   ],
   "outputs": [],
   "metadata": {}
  },
  {
   "cell_type": "code",
   "execution_count": null,
   "source": [
    "svc_clf.score(X_test, y_test)"
   ],
   "outputs": [],
   "metadata": {}
  },
  {
   "cell_type": "code",
   "execution_count": null,
   "source": [
    "prediction_svc = svc_clf.predict(X_test)\r\n",
    "\r\n",
    "print(f'Recall: {recall_score(y_test, prediction_svc)}')\r\n",
    "print(f'F1: {f1_score(y_test, prediction_svc)}')"
   ],
   "outputs": [],
   "metadata": {}
  },
  {
   "cell_type": "markdown",
   "source": [
    "<h1>Random Forest</h1>"
   ],
   "metadata": {}
  },
  {
   "cell_type": "code",
   "execution_count": 8,
   "source": [
    "from sklearn.ensemble import RandomForestClassifier"
   ],
   "outputs": [],
   "metadata": {}
  },
  {
   "cell_type": "code",
   "execution_count": null,
   "source": [
    "rf = RandomForestClassifier(n_estimators=100, class_weight={1: 10})"
   ],
   "outputs": [],
   "metadata": {}
  },
  {
   "cell_type": "code",
   "execution_count": null,
   "source": [
    "rf.fit(X_train, y_train)"
   ],
   "outputs": [],
   "metadata": {}
  },
  {
   "cell_type": "code",
   "execution_count": null,
   "source": [
    "rf.score(X_test, y_test)"
   ],
   "outputs": [],
   "metadata": {}
  },
  {
   "cell_type": "code",
   "execution_count": null,
   "source": [
    "prediction_rf = rf.predict(X_test)\r\n",
    "print(f'Recall: {recall_score(y_test, prediction_rf)}')\r\n",
    "print(f'F1: {f1_score(y_test, prediction_rf)}')"
   ],
   "outputs": [],
   "metadata": {}
  },
  {
   "cell_type": "markdown",
   "source": [
    "<h1>Pipelines</h1>"
   ],
   "metadata": {}
  },
  {
   "cell_type": "code",
   "execution_count": 28,
   "source": [
    "from sklearn.pipeline import Pipeline"
   ],
   "outputs": [],
   "metadata": {}
  },
  {
   "cell_type": "code",
   "execution_count": 29,
   "source": [
    "X_train, X_test, y_train, y_test = train_test_split(df['content'], df['fake'], test_size=0.4, random_state=42)\r\n",
    "X_full = np.hstack((X_train, X_test))"
   ],
   "outputs": [],
   "metadata": {}
  },
  {
   "cell_type": "code",
   "execution_count": 30,
   "source": [
    "class TrainTestTransformer(TransformerMixin):\r\n",
    "    def __init__(self) -> None:\r\n",
    "        super().__init__()\r\n",
    "        self.train = True\r\n",
    "\r\n",
    "    def fit(self, X, y=None, rs=42, train=True, **fit_params):\r\n",
    "        if train:\r\n",
    "            self.train = True\r\n",
    "        self.X_train, self.X_test = train_test_split(X, test_size=0.4, shuffle=False, random_state=rs)\r\n",
    "        return self\r\n",
    "\r\n",
    "    def transform(self, X, y=None, **fit_params):\r\n",
    "        if self.train:\r\n",
    "            self.train = False\r\n",
    "            return self.X_train\r\n",
    "        else:\r\n",
    "            return self.X_test"
   ],
   "outputs": [],
   "metadata": {}
  },
  {
   "cell_type": "code",
   "execution_count": 35,
   "source": [
    "estimators = [('vectorize', TfidfVectorizer(tokenizer=tokenize, min_df=1, max_df=1.0)), \r\n",
    "              ('reduce_dim', TruncatedSVD(n_components=25, random_state=42)),\r\n",
    "              ('train_test_split', TrainTestTransformer()), \r\n",
    "              ('clf', SVC(kernel='rbf', class_weight={1: 10}))]\r\n",
    "\r\n",
    "pipe = Pipeline(estimators, verbose=True)"
   ],
   "outputs": [],
   "metadata": {}
  },
  {
   "cell_type": "code",
   "execution_count": 36,
   "source": [
    "pipe.fit(X_full, y_train)"
   ],
   "outputs": [
    {
     "output_type": "stream",
     "name": "stdout",
     "text": [
      "[Pipeline] ......... (step 1 of 4) Processing vectorize, total= 7.3min\n",
      "[Pipeline] ........ (step 2 of 4) Processing reduce_dim, total=   1.2s\n",
      "[Pipeline] .. (step 3 of 4) Processing train_test_split, total=   0.0s\n",
      "[Pipeline] ............... (step 4 of 4) Processing clf, total=   0.1s\n"
     ]
    },
    {
     "output_type": "execute_result",
     "data": {
      "text/plain": [
       "Pipeline(steps=[('vectorize',\n",
       "                 TfidfVectorizer(tokenizer=<function tokenize at 0x000001B914137D38>)),\n",
       "                ('reduce_dim', TruncatedSVD(n_components=25, random_state=42)),\n",
       "                ('train_test_split',\n",
       "                 <__main__.TrainTestTransformer object at 0x000001B91D1F7D88>),\n",
       "                ('clf', SVC(class_weight={1: 10}))],\n",
       "         verbose=True)"
      ]
     },
     "metadata": {},
     "execution_count": 36
    }
   ],
   "metadata": {}
  },
  {
   "cell_type": "code",
   "execution_count": 37,
   "source": [
    "pred = pipe.predict(X_test)"
   ],
   "outputs": [],
   "metadata": {}
  },
  {
   "cell_type": "code",
   "execution_count": 38,
   "source": [
    "print(f'Accuracy: {accuracy_score(y_test, pred):.4f}')\r\n",
    "print(f'Recall:   {recall_score(y_test, pred):.4f}')\r\n",
    "print(f'F1:       {f1_score(y_test, pred):.4f}')"
   ],
   "outputs": [
    {
     "output_type": "stream",
     "name": "stdout",
     "text": [
      "Accuracy: 0.9975\n",
      "Recall:   0.9753\n",
      "F1:       0.9875\n"
     ]
    }
   ],
   "metadata": {}
  },
  {
   "cell_type": "markdown",
   "source": [
    "<h1>Model selection with Grid Search</h1>"
   ],
   "metadata": {}
  },
  {
   "cell_type": "code",
   "execution_count": 10,
   "source": [
    "from sklearn.model_selection import GridSearchCV"
   ],
   "outputs": [],
   "metadata": {}
  },
  {
   "cell_type": "code",
   "execution_count": 11,
   "source": [
    "param_grid = dict(reduce_dim__n_components=[25, 50, 100, 200],\r\n",
    "                  clf=[LogisticRegression(class_weight={1: 10}), SVC(kernel='rbf', class_weight={1: 10}), \r\n",
    "                       SVC(kernel='linear', class_weight={1: 10}), \r\n",
    "                       SVC(kernel='sigmoid', class_weight={1: 10}), \r\n",
    "                       RandomForestClassifier(n_estimators=100, class_weight={1: 10}), \r\n",
    "                       RandomForestClassifier(n_estimators=150, class_weight={1: 10}), \r\n",
    "                       RandomForestClassifier(n_estimators=50, class_weight={1: 10})])\r\n",
    "\r\n",
    "estimators = [('reduce_dim', TruncatedSVD(random_state=42)),\r\n",
    "              ('clf', None)]"
   ],
   "outputs": [],
   "metadata": {}
  },
  {
   "cell_type": "code",
   "execution_count": 12,
   "source": [
    "pipe = Pipeline(estimators)\r\n",
    "\r\n",
    "grid_search = GridSearchCV(pipe, param_grid=param_grid, scoring=['accuracy', 'recall', 'f1'], \r\n",
    "                           refit='recall', verbose=0)"
   ],
   "outputs": [],
   "metadata": {}
  },
  {
   "cell_type": "code",
   "execution_count": 13,
   "source": [
    "for min_df in [0.0001, 0.0005, 0.001, 0.002]:\r\n",
    "    vectorizer = TfidfVectorizer(tokenizer=tokenize, min_df=min_df, max_df=1.0)\r\n",
    "    tfidf_docs = vectorizer.fit_transform(df['content'])\r\n",
    "    X_train, X_test, y_train, y_test = train_test_split(tfidf_docs, df['fake'], test_size=0.4, random_state=42)\r\n",
    "    grid_search.fit(X_train, y_train)\r\n",
    "    print(f'\\n\\nVectorization with min_df = {min_df}')\r\n",
    "    print(grid_search.best_estimator_.get_params())\r\n",
    "    pred = grid_search.best_estimator_.predict(X_test)\r\n",
    "\r\n",
    "    print(f'Accuracy: {accuracy_score(y_test, pred)}')\r\n",
    "    print(f'Recall: {recall_score(y_test, pred)}')\r\n",
    "    print(f'F1: {f1_score(y_test, pred)}')\r\n",
    "    print('-'*100, '\\n')"
   ],
   "outputs": [
    {
     "output_type": "stream",
     "name": "stdout",
     "text": [
      "\n",
      "\n",
      "Vectorization with min_df = 0.0001\n",
      "{'memory': None, 'steps': [('reduce_dim', TruncatedSVD(n_components=25, random_state=42)), ('clf', SVC(class_weight={1: 10}))], 'verbose': False, 'reduce_dim': TruncatedSVD(n_components=25, random_state=42), 'clf': SVC(class_weight={1: 10}), 'reduce_dim__algorithm': 'randomized', 'reduce_dim__n_components': 25, 'reduce_dim__n_iter': 5, 'reduce_dim__random_state': 42, 'reduce_dim__tol': 0.0, 'clf__C': 1.0, 'clf__break_ties': False, 'clf__cache_size': 200, 'clf__class_weight': {1: 10}, 'clf__coef0': 0.0, 'clf__decision_function_shape': 'ovr', 'clf__degree': 3, 'clf__gamma': 'scale', 'clf__kernel': 'rbf', 'clf__max_iter': -1, 'clf__probability': False, 'clf__random_state': None, 'clf__shrinking': True, 'clf__tol': 0.001, 'clf__verbose': False}\n",
      "Accuracy: 0.9978201634877384\n",
      "Recall: 0.9780821917808219\n",
      "F1: 0.9889196675900276\n",
      "---------------------------------------------------------------------------------------------------- \n",
      "\n",
      "\n",
      "\n",
      "Vectorization with min_df = 0.0005\n",
      "{'memory': None, 'steps': [('reduce_dim', TruncatedSVD(n_components=25, random_state=42)), ('clf', LogisticRegression(class_weight={1: 10}))], 'verbose': False, 'reduce_dim': TruncatedSVD(n_components=25, random_state=42), 'clf': LogisticRegression(class_weight={1: 10}), 'reduce_dim__algorithm': 'randomized', 'reduce_dim__n_components': 25, 'reduce_dim__n_iter': 5, 'reduce_dim__random_state': 42, 'reduce_dim__tol': 0.0, 'clf__C': 1.0, 'clf__class_weight': {1: 10}, 'clf__dual': False, 'clf__fit_intercept': True, 'clf__intercept_scaling': 1, 'clf__l1_ratio': None, 'clf__max_iter': 100, 'clf__multi_class': 'auto', 'clf__n_jobs': None, 'clf__penalty': 'l2', 'clf__random_state': None, 'clf__solver': 'lbfgs', 'clf__tol': 0.0001, 'clf__verbose': 0, 'clf__warm_start': False}\n",
      "Accuracy: 0.9967302452316076\n",
      "Recall: 0.9671232876712329\n",
      "F1: 0.9832869080779943\n",
      "---------------------------------------------------------------------------------------------------- \n",
      "\n",
      "\n",
      "\n",
      "Vectorization with min_df = 0.001\n",
      "{'memory': None, 'steps': [('reduce_dim', TruncatedSVD(n_components=25, random_state=42)), ('clf', LogisticRegression(class_weight={1: 10}))], 'verbose': False, 'reduce_dim': TruncatedSVD(n_components=25, random_state=42), 'clf': LogisticRegression(class_weight={1: 10}), 'reduce_dim__algorithm': 'randomized', 'reduce_dim__n_components': 25, 'reduce_dim__n_iter': 5, 'reduce_dim__random_state': 42, 'reduce_dim__tol': 0.0, 'clf__C': 1.0, 'clf__class_weight': {1: 10}, 'clf__dual': False, 'clf__fit_intercept': True, 'clf__intercept_scaling': 1, 'clf__l1_ratio': None, 'clf__max_iter': 100, 'clf__multi_class': 'auto', 'clf__n_jobs': None, 'clf__penalty': 'l2', 'clf__random_state': None, 'clf__solver': 'lbfgs', 'clf__tol': 0.0001, 'clf__verbose': 0, 'clf__warm_start': False}\n",
      "Accuracy: 0.9967302452316076\n",
      "Recall: 0.9671232876712329\n",
      "F1: 0.9832869080779943\n",
      "---------------------------------------------------------------------------------------------------- \n",
      "\n",
      "\n",
      "\n",
      "Vectorization with min_df = 0.002\n",
      "{'memory': None, 'steps': [('reduce_dim', TruncatedSVD(n_components=25, random_state=42)), ('clf', LogisticRegression(class_weight={1: 10}))], 'verbose': False, 'reduce_dim': TruncatedSVD(n_components=25, random_state=42), 'clf': LogisticRegression(class_weight={1: 10}), 'reduce_dim__algorithm': 'randomized', 'reduce_dim__n_components': 25, 'reduce_dim__n_iter': 5, 'reduce_dim__random_state': 42, 'reduce_dim__tol': 0.0, 'clf__C': 1.0, 'clf__class_weight': {1: 10}, 'clf__dual': False, 'clf__fit_intercept': True, 'clf__intercept_scaling': 1, 'clf__l1_ratio': None, 'clf__max_iter': 100, 'clf__multi_class': 'auto', 'clf__n_jobs': None, 'clf__penalty': 'l2', 'clf__random_state': None, 'clf__solver': 'lbfgs', 'clf__tol': 0.0001, 'clf__verbose': 0, 'clf__warm_start': False}\n",
      "Accuracy: 0.9967302452316076\n",
      "Recall: 0.9671232876712329\n",
      "F1: 0.9832869080779943\n",
      "---------------------------------------------------------------------------------------------------- \n",
      "\n"
     ]
    }
   ],
   "metadata": {}
  },
  {
   "cell_type": "markdown",
   "source": [
    "<h1>Best classifier parameters</h1>\r\n",
    "Vectorization with min_df = 0.0001<p></p>\r\n",
    "{'memory': None, <br/>\r\n",
    " 'steps': [<br/>\r\n",
    "    ('reduce_dim', TruncatedSVD(n_components=25, random_state=42)),<br/>\r\n",
    "    ('clf', SVC(class_weight={1: 10}))], <br/>\r\n",
    " 'verbose': False, <br/>\r\n",
    " 'reduce_dim': TruncatedSVD(n_components=25, random_state=42),<br/> \r\n",
    " 'clf': SVC(class_weight={1: 10}), <br/>\r\n",
    " 'reduce_dim__algorithm': 'randomized', <br/>\r\n",
    " 'reduce_dim__n_components': 25, <br/>\r\n",
    " 'reduce_dim__n_iter': 5, <br/>\r\n",
    " 'reduce_dim__random_state': 42, <br/>\r\n",
    " 'reduce_dim__tol': 0.0, <br/>\r\n",
    " 'clf__C': 1.0, <br/>\r\n",
    " 'clf__break_ties': False,<br/> \r\n",
    " 'clf__cache_size': 200, \r\n",
    " 'clf__class_weight': {1: 10}, <br/>\r\n",
    " 'clf__coef0': 0.0, <br/>\r\n",
    " 'clf__decision_function_shape': 'ovr', <br/>\r\n",
    " 'clf__degree': 3, <br/>\r\n",
    " 'clf__gamma': 'scale', <br/>\r\n",
    " 'clf__kernel': 'rbf', <br/>\r\n",
    " 'clf__max_iter': -1, <br/>\r\n",
    " 'clf__probability': False, <br/>\r\n",
    " 'clf__random_state': None, <br/>\r\n",
    " 'clf__shrinking': True, <br/>\r\n",
    " 'clf__tol': 0.001, <br/>\r\n",
    " 'clf__verbose': False}<br/>\r\n",
    "\r\n",
    "<h3><b>Accuracy</b>: 0.9978201634877384<br/>\r\n",
    "<b>Recall</b>: 0.9780821917808219<br/>\r\n",
    "<b>F1</b>: 0.9889196675900276</h3>"
   ],
   "metadata": {}
  },
  {
   "cell_type": "markdown",
   "source": [],
   "metadata": {}
  }
 ],
 "metadata": {
  "orig_nbformat": 4,
  "language_info": {
   "name": "python",
   "version": "3.7.4",
   "mimetype": "text/x-python",
   "codemirror_mode": {
    "name": "ipython",
    "version": 3
   },
   "pygments_lexer": "ipython3",
   "nbconvert_exporter": "python",
   "file_extension": ".py"
  },
  "kernelspec": {
   "name": "python3",
   "display_name": "Python 3.7.4 64-bit ('nlp': virtualenv)"
  },
  "interpreter": {
   "hash": "a8c840506e94c7ebd4e9fbc2369aa3943e31f3b1278726fbb23604191abd28fd"
  }
 },
 "nbformat": 4,
 "nbformat_minor": 2
}